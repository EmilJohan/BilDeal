{
 "cells": [
  {
   "cell_type": "code",
   "execution_count": null,
   "id": "870beaa3",
   "metadata": {},
   "outputs": [],
   "source": [
    "#import sys\n",
    "#!{sys.executable} -m pip install category_encoders\n",
    "\n",
    "import pandas as pd\n",
    "import numpy as np\n",
    "import re\n",
    "import joblib\n",
    "from datetime import datetime\n",
    "from sklearn.impute import SimpleImputer\n",
    "from sklearn.compose import ColumnTransformer\n",
    "from sklearn.preprocessing import OneHotEncoder, MinMaxScaler\n",
    "from sklearn.pipeline import Pipeline\n",
    "from sklearn.ensemble import RandomForestRegressor\n",
    "from sklearn.model_selection import train_test_split, RandomizedSearchCV\n",
    "from sklearn.metrics import mean_absolute_error, mean_squared_error\n",
    "from scipy.stats import randint, uniform"
   ]
  },
  {
   "cell_type": "code",
   "execution_count": null,
   "id": "552ec794",
   "metadata": {},
   "outputs": [],
   "source": [
    "# Load data\n",
    "car_data = pd.read_csv('F://Nedlastinger/cardata/train.csv')\n",
    "\n",
    "# Extract target variable\n",
    "target = 'price'\n",
    "X = car_data.drop(columns=[target])\n",
    "y = car_data[target]\n",
    "\n",
    "# Remove outliers from the target variable (price)\n",
    "upper_limit = y.quantile(0.99)\n",
    "lower_limit = y.quantile(0.01)\n",
    "mask = (y >= lower_limit) & (y <= upper_limit)\n",
    "X = X[mask]\n",
    "y = y[mask]"
   ]
  },
  {
   "cell_type": "code",
   "execution_count": null,
   "id": "a6e77613",
   "metadata": {
    "scrolled": true
   },
   "outputs": [],
   "source": [
    "# Preprocess engine column: Extract horsepower as a numerical feature\n",
    "def extract_horsepower(engine_str):\n",
    "    match = re.search(r\"(\\d+\\.\\d+)HP\", engine_str)\n",
    "    return float(match.group(1)) if match else np.nan\n",
    "\n",
    "X['horsepower'] = X['engine'].apply(extract_horsepower)\n",
    "X['engine_type'] = X['engine'].str.extract(r\"(\\d+\\.\\d+L \\d+ Cylinder)\")[0]\n",
    "\n",
    "# Simplify accident and clean_title\n",
    "X['accident'] = (X['accident'] != 'None reported').astype(int)\n",
    "X['clean_title'] = (X['clean_title'] == 'Yes').astype(int)\n",
    "\n",
    "# Add Feature: Car Age\n",
    "current_year = datetime.now().year\n",
    "X['car_age'] = current_year - X['model_year']\n",
    "\n",
    "# Add Feature: Mileage Per Year\n",
    "X['mileage_per_year'] = X['milage'] / X['car_age']\n",
    "X['mileage_per_year'] = X['mileage_per_year'].replace([np.inf, -np.inf], np.nan)  # Handle division by zero\n",
    "\n",
    "# Add Interaction Feature: Milage * Car Age\n",
    "X['milage_car_age_interaction'] = X['milage'] * X['car_age']\n",
    "\n",
    "# Add Log-Transformed Features for Skewed Data\n",
    "X['log_milage'] = np.log1p(X['milage'])\n",
    "X['log_mileage_per_year'] = np.log1p(X['mileage_per_year'])\n",
    "\n",
    "# Add Feature: Number of Cylinders\n",
    "X['cylinders'] = X['engine_type'].str.extract(r'(\\d+) Cylinder').astype(float)\n",
    "\n",
    "# Simplify Categorical Features: Group Luxury Brands\n",
    "luxury_brands = ['Porsche', 'Lamborghini', 'Bentley']\n",
    "X['brand_luxury'] = X['brand'].apply(lambda x: 1 if x in luxury_brands else 0)\n",
    "\n",
    "# Encode Brand Using Target Encoding\n",
    "from category_encoders import TargetEncoder\n",
    "\n",
    "brand_encoder = TargetEncoder()\n",
    "X['brand_encoded'] = brand_encoder.fit_transform(X['brand'], y)\n",
    "\n",
    "# Drop redundant columns\n",
    "X = X.drop(columns=['engine', 'brand'])  # Drop original `engine` and `brand`\n",
    "\n",
    "# Define categorical and numerical columns\n",
    "categorical_features = ['model', 'fuel_type', 'transmission', 'ext_col', 'int_col', 'engine_type', 'brand_luxury']\n",
    "numerical_features = [\n",
    "    'model_year', 'milage', 'horsepower', 'accident', 'clean_title', \n",
    "    'car_age', 'mileage_per_year', 'cylinders', \n",
    "    'milage_car_age_interaction', 'log_milage', 'log_mileage_per_year', 'brand_encoded'\n",
    "]"
   ]
  },
  {
   "cell_type": "code",
   "execution_count": null,
   "id": "ef765167",
   "metadata": {},
   "outputs": [],
   "source": [
    "# Imputation strategies\n",
    "numerical_imputer = SimpleImputer(strategy='median')  # Fill numerical NaNs with median\n",
    "categorical_imputer = SimpleImputer(strategy='most_frequent')  # Fill categorical NaNs with mode\n",
    "\n",
    "# Preprocessing pipeline\n",
    "numerical_transformer = Pipeline(steps=[\n",
    "    ('imputer', numerical_imputer),\n",
    "    ('scaler', MinMaxScaler())\n",
    "])\n",
    "categorical_transformer = Pipeline(steps=[\n",
    "    ('imputer', categorical_imputer),\n",
    "    ('onehot', OneHotEncoder(handle_unknown='ignore'))\n",
    "])\n",
    "\n",
    "preprocessor = ColumnTransformer(\n",
    "    transformers=[\n",
    "        ('num', numerical_transformer, numerical_features),\n",
    "        ('cat', categorical_transformer, categorical_features)\n",
    "    ]\n",
    ")"
   ]
  },
  {
   "cell_type": "code",
   "execution_count": null,
   "id": "ff479c84",
   "metadata": {},
   "outputs": [],
   "source": [
    "# Model pipeline found by randomizedsearch\n",
    "optimized_model = RandomForestRegressor(\n",
    "    max_depth=18,\n",
    "    max_features=0.39388669192525183,\n",
    "    min_samples_leaf=7,\n",
    "    min_samples_split=5,\n",
    "    n_estimators=298,\n",
    "    random_state=42\n",
    ")\n",
    "\n",
    "final_pipeline = Pipeline(steps=[\n",
    "    ('preprocessor', preprocessor),\n",
    "    ('regressor', optimized_model)\n",
    "])"
   ]
  },
  {
   "cell_type": "code",
   "execution_count": null,
   "id": "c3653324",
   "metadata": {},
   "outputs": [],
   "source": [
    "# Split data into train and validation sets\n",
    "X_train, X_val, y_train, y_val = train_test_split(X, y, test_size=0.2, random_state=42)\n",
    "\n",
    "# Train the pipeline\n",
    "final_pipeline.fit(X_train, y_train)\n",
    "\n",
    "# Predict on the validation set\n",
    "y_pred_val = final_pipeline.predict(X_val)\n",
    "\n",
    "# Evaluate the optimized model\n",
    "mae = mean_absolute_error(y_val, y_pred_val)\n",
    "mse = mean_squared_error(y_val, y_pred_val)\n",
    "rmse = np.sqrt(mse)\n",
    "\n",
    "print(f\"Optimized Model with Enhanced Features - MAE: {mae}, MSE: {mse}, RMSE: {rmse}\")\n",
    "\n",
    "# Access the trained regressor inside the pipeline\n",
    "feature_importances = final_pipeline.named_steps['regressor'].feature_importances_\n",
    "\n",
    "# Get feature names after preprocessing\n",
    "feature_names = final_pipeline.named_steps['preprocessor'].get_feature_names_out()\n",
    "\n",
    "# Create a DataFrame for better visualization\n",
    "importance_df = pd.DataFrame({\n",
    "    'Feature': feature_names,\n",
    "    'Importance': feature_importances\n",
    "}).sort_values(by='Importance', ascending=False)\n",
    "\n",
    "print(importance_df)\n"
   ]
  },
  {
   "cell_type": "code",
   "execution_count": null,
   "id": "bf49d0a8",
   "metadata": {},
   "outputs": [],
   "source": [
    "print(importance_df.head(10))"
   ]
  },
  {
   "cell_type": "code",
   "execution_count": null,
   "id": "e6e93b3e",
   "metadata": {},
   "outputs": [],
   "source": [
    "import joblib\n",
    "\n",
    "# Save the pipeline\n",
    "joblib.dump(final_pipeline, 'F://Nedlastinger/cardata/final_modelv2.pkl')"
   ]
  },
  {
   "cell_type": "code",
   "execution_count": null,
   "id": "a7b6733d",
   "metadata": {},
   "outputs": [],
   "source": [
    "# Save the TargetEncoder\n",
    "joblib.dump(brand_encoder, 'F://Nedlastinger/cardata/brand_encoder.pkl')"
   ]
  }
 ],
 "metadata": {
  "kernelspec": {
   "display_name": "Python 3 (ipykernel)",
   "language": "python",
   "name": "python3"
  },
  "language_info": {
   "codemirror_mode": {
    "name": "ipython",
    "version": 3
   },
   "file_extension": ".py",
   "mimetype": "text/x-python",
   "name": "python",
   "nbconvert_exporter": "python",
   "pygments_lexer": "ipython3",
   "version": "3.8.19"
  }
 },
 "nbformat": 4,
 "nbformat_minor": 5
}
